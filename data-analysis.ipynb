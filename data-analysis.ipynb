{
 "cells": [
  {
   "cell_type": "code",
   "execution_count": 5,
   "id": "f92387a1",
   "metadata": {},
   "outputs": [
    {
     "name": "stdout",
     "output_type": "stream",
     "text": [
      "mohittalniya\n",
      "\u001b[1morgs: \u001b[0m cerebras-llama4-hackathon\n"
     ]
    }
   ],
   "source": [
    "!hf auth whoami"
   ]
  },
  {
   "cell_type": "markdown",
   "id": "f74442ce",
   "metadata": {},
   "source": [
    "## Download the Dataset using dataset\n",
    "\n"
   ]
  },
  {
   "cell_type": "code",
   "execution_count": 11,
   "id": "f59062c6",
   "metadata": {},
   "outputs": [
    {
     "data": {
      "application/vnd.jupyter.widget-view+json": {
       "model_id": "9d541db224fd43218c93fe9c7c0220ee",
       "version_major": 2,
       "version_minor": 0
      },
      "text/plain": [
       "Downloading readme:   0%|          | 0.00/4.42k [00:00<?, ?B/s]"
      ]
     },
     "metadata": {},
     "output_type": "display_data"
    },
    {
     "data": {
      "application/vnd.jupyter.widget-view+json": {
       "model_id": "5e9622f0a918406f9c1858273ad61b70",
       "version_major": 2,
       "version_minor": 0
      },
      "text/plain": [
       "Downloading data:   0%|          | 0.00/7.33M [00:00<?, ?B/s]"
      ]
     },
     "metadata": {},
     "output_type": "display_data"
    },
    {
     "data": {
      "application/vnd.jupyter.widget-view+json": {
       "model_id": "0b1e34e0b71a493183098cf348aff785",
       "version_major": 2,
       "version_minor": 0
      },
      "text/plain": [
       "Downloading data:   0%|          | 0.00/835k [00:00<?, ?B/s]"
      ]
     },
     "metadata": {},
     "output_type": "display_data"
    },
    {
     "data": {
      "application/vnd.jupyter.widget-view+json": {
       "model_id": "4a713f20601948cf9f729136c27bcf64",
       "version_major": 2,
       "version_minor": 0
      },
      "text/plain": [
       "Generating train split:   0%|          | 0/39554 [00:00<?, ? examples/s]"
      ]
     },
     "metadata": {},
     "output_type": "display_data"
    },
    {
     "data": {
      "application/vnd.jupyter.widget-view+json": {
       "model_id": "0ef64f7184cf4f46b76536c3112621d1",
       "version_major": 2,
       "version_minor": 0
      },
      "text/plain": [
       "Generating test split:   0%|          | 0/4833 [00:00<?, ? examples/s]"
      ]
     },
     "metadata": {},
     "output_type": "display_data"
    }
   ],
   "source": [
    "from datasets import load_dataset\n",
    "ds = load_dataset(\"neo4j/text2cypher-2024v1\")\n",
    "train_samples = ds['train']\n",
    "test_samples = ds['test']"
   ]
  },
  {
   "cell_type": "code",
   "execution_count": 12,
   "id": "b60fb29b",
   "metadata": {},
   "outputs": [
    {
     "name": "stdout",
     "output_type": "stream",
     "text": [
      "{'question': 'Which 3 countries have the most entities linked as beneficiaries in filings?', 'schema': 'Node properties:\\n- **Country**\\n  - `location`: POINT \\n  - `code`: STRING Example: \"AFG\"\\n  - `name`: STRING Example: \"Afghanistan\"\\n  - `tld`: STRING Example: \"AF\"\\n- **Filing**\\n  - `begin`: DATE_TIME Min: 2000-02-08T00:00:00Z, Max: 2017-09-05T00:00:00Z\\n  - `end`: DATE_TIME Min: 2000-02-08T00:00:00Z, Max: 2017-11-03T00:00:00Z\\n  - `originator_bank_id`: STRING Example: \"cimb-bank-berhad\"\\n  - `sar_id`: STRING Example: \"3297\"\\n  - `beneficiary_bank`: STRING Example: \"Barclays Bank Plc\"\\n  - `filer_org_name_id`: STRING Example: \"the-bank-of-new-york-mellon-corp\"\\n  - `originator_bank_country`: STRING Example: \"Singapore\"\\n  - `beneficiary_bank_country`: STRING Example: \"United Kingdom\"\\n  - `filer_org_name`: STRING Example: \"The Bank of New York Mellon Corp.\"\\n  - `originator_iso`: STRING Example: \"SGP\"\\n  - `beneficiary_bank_id`: STRING Example: \"barclays-bank-plc-london-england-gbr\"\\n  - `origin_lat`: STRING Example: \"1.3667\"\\n  - `origin_lng`: STRING Example: \"103.8\"\\n  - `end_date_format`: STRING Example: \"2015-09-25T00:00:00Z\"\\n  - `begin_date_format`: STRING Example: \"2015-03-25T00:00:00Z\"\\n  - `originator_bank`: STRING Example: \"CIMB Bank Berhad\"\\n  - `beneficiary_lat`: STRING Example: \"54\"\\n  - `beneficiary_iso`: STRING Example: \"GBR\"\\n  - `beneficiary_lng`: STRING Example: \"-2\"\\n  - `begin_date`: STRING Example: \"Mar 25, 2015\"\\n  - `id`: STRING Example: \"223254\"\\n  - `end_date`: STRING Example: \"Sep 25, 2015\"\\n  - `amount`: INTEGER Min: 1.18, Max: 2721000000\\n  - `number`: INTEGER Min: 1, Max: 174\\n- **Entity**\\n  - `id`: STRING Example: \"the-bank-of-new-york-mellon-corp\"\\n  - `location`: POINT \\n  - `name`: STRING Example: \"The Bank of New York Mellon Corp.\"\\n  - `country`: STRING Example: \"CHN\"\\nRelationship properties:\\n\\nThe relationships:\\n(:Filing)-[:BENEFITS]->(:Entity)\\n(:Filing)-[:CONCERNS]->(:Entity)\\n(:Filing)-[:ORIGINATOR]->(:Entity)\\n(:Entity)-[:FILED]->(:Filing)\\n(:Entity)-[:COUNTRY]->(:Country)', 'cypher': 'MATCH (f:Filing)-[:BENEFITS]->(e:Entity)-[:COUNTRY]->(c:Country) WITH c.name AS country, COUNT(e) AS entityCount ORDER BY entityCount DESC LIMIT 3 RETURN country, entityCount', 'data_source': 'neo4jLabs_synthetic_gpt4o', 'instance_id': 'instance_id_41185', 'database_reference_alias': 'neo4jlabs_demo_db_fincen'}\n",
      "{'question': 'What are the names of the first 3 organizations and their CEOs where the organization is not public?', 'schema': 'Node properties:\\n- **Person**\\n  - `name`: STRING Example: \"Julie Spellman Sweet\"\\n  - `id`: STRING Example: \"Eaf0bpz6NNoqLVUCqNZPAew\"\\n  - `summary`: STRING Example: \"CEO at Accenture\"\\n- **Organization**\\n  - `revenue`: FLOAT Example: \"1.2E8\"\\n  - `motto`: STRING Example: \"\"\\n  - `nbrEmployees`: INTEGER Example: \"375\"\\n  - `isDissolved`: BOOLEAN \\n  - `id`: STRING Example: \"E0ZU8eCc5OaqS1LU9qE3n3w\"\\n  - `isPublic`: BOOLEAN \\n  - `name`: STRING Example: \"New Energy Group\"\\n  - `summary`: STRING Example: \"Software company based in Rome, Metropolitan City \"\\n- **IndustryCategory**\\n  - `name`: STRING Example: \"Electronic Products Manufacturers\"\\n  - `id`: STRING Example: \"EUNd__O4zMNW81lAXNK2GNw\"\\n- **City**\\n  - `id`: STRING Example: \"EZHWv2xKgN92oYDKSjhJ2gw\"\\n  - `summary`: STRING Example: \"City in and county seat of King County, Washington\"\\n  - `name`: STRING Example: \"Seattle\"\\n- **Country**\\n  - `name`: STRING Example: \"United States of America\"\\n  - `id`: STRING Example: \"E01d4EK33MmCosgI2KXa4-A\"\\n  - `summary`: STRING Example: \"Country in North America\"\\n- **Article**\\n  - `id`: STRING Example: \"ART176872705964\"\\n  - `sentiment`: FLOAT Example: \"0.856\"\\n  - `author`: STRING Example: \"David Correa\"\\n  - `siteName`: STRING Example: \"MrWeb\"\\n  - `summary`: STRING Example: \"Boston and Mumbai-based consumer behavior analyses\"\\n  - `date`: DATE_TIME Example: \"2022-03-10T00:00:00Z\"\\n  - `title`: STRING Example: \"Funds for Consumer Behavior Specialist Infinite An\"\\n- **Chunk**\\n  - `text`: STRING Example: \"Boston and Mumbai-based consumer behavior analyses\"\\n- **Fewshot**\\n  - `Question`: STRING Available options: [\\'How is Emil Eifrem connected to Michael Hunger? \\', \\'What are the latest news regarding Google? \\', \\'Are there any news regarding return to office poli\\', \\'What is Microsoft policy regarding to the return t\\', \\'How many levels of subsidiaries does Blackstone ha\\', \\'How many Telecommunications Companies are from Mal\\']\\n  - `Cypher`: STRING Available options: [\\'MATCH (p1:Person {{name:\"Emil Eifrem\"}}), (p2:Pers\\', \\'MATCH (o:Organization {{name:\"Google\"}})<-[:MENTIO\\', \\'CALL apoc.ml.openai.embedding([\"Are there any news\\', \\'CALL apoc.ml.openai.embedding([\"What is Microsoft \\', \\'MATCH p=(o:Organization {name:\"Blackstone\"})-[:HAS\\', \\'MATCH (o:Organization) WHERE EXISTS {(o)-[:HAS_CAT\\']\\n  - `id`: INTEGER Min: 2, Max: 7\\nRelationship properties:\\n\\nThe relationships:\\n(:Person)-[:HAS_PARENT]->(:Person)\\n(:Person)-[:HAS_CHILD]->(:Person)\\n(:Organization)-[:IN_CITY]->(:City)\\n(:Organization)-[:HAS_CEO]->(:Person)\\n(:Organization)-[:HAS_CATEGORY]->(:IndustryCategory)\\n(:Organization)-[:HAS_SUBSIDIARY]->(:Organization)\\n(:Organization)-[:HAS_SUPPLIER]->(:Organization)\\n(:Organization)-[:HAS_INVESTOR]->(:Organization)\\n(:Organization)-[:HAS_INVESTOR]->(:Person)\\n(:Organization)-[:HAS_BOARD_MEMBER]->(:Person)\\n(:Organization)-[:HAS_COMPETITOR]->(:Organization)\\n(:City)-[:IN_COUNTRY]->(:Country)\\n(:Article)-[:HAS_CHUNK]->(:Chunk)\\n(:Article)-[:MENTIONS]->(:Organization)', 'cypher': 'MATCH (o:Organization)-[:HAS_CEO]->(ceo:Person) WHERE o.isPublic = false RETURN o.name AS OrganizationName, ceo.name AS CEOName LIMIT 3', 'data_source': 'neo4jLabs_synthetic_gpt4turbo', 'instance_id': 'instance_id_26598', 'database_reference_alias': 'neo4jlabs_demo_db_companies'}\n",
      "{'question': 'List the names of the games played by streams that have a total view count greater than 50,000,000.', 'schema': 'Node properties:\\n- **Stream**\\n  - `createdAt`: DATE_TIME Min: 2007-05-22T10:39:53.259969Z, Max: 2021-05-09T14:16:40.370294Z\\n  - `id`: STRING Example: \"129004176\"\\n  - `description`: STRING Example: \"Welcome to my Channel, I\\'m Big Chase, 31 living in\"\\n  - `url`: STRING Example: \"https://www.twitch.tv/itsbigchase\"\\n  - `name`: STRING Example: \"itsbigchase\"\\n  - `followers`: INTEGER Min: 0, Max: 10243195\\n  - `total_view_count`: INTEGER Min: 21, Max: 1451487256\\n- **Game**\\n  - `name`: STRING Example: \"Rust\"\\n- **Language**\\n  - `name`: STRING Example: \"en\"\\n- **User**\\n  - `name`: STRING Example: \"itsbigchase\"\\n- **Team**\\n  - `createdAt`: DATE_TIME Min: 2011-10-11T23:59:43.548701Z, Max: 2021-05-07T17:19:09.946382Z\\n  - `name`: STRING Example: \"ESO Stream Team\"\\n  - `id`: STRING Example: \"5893\"\\nRelationship properties:\\n\\nThe relationships:\\n(:Stream)-[:PLAYS]->(:Game)\\n(:Stream)-[:HAS_LANGUAGE]->(:Language)\\n(:Stream)-[:MODERATOR]->(:Stream)\\n(:Stream)-[:MODERATOR]->(:User)\\n(:Stream)-[:CHATTER]->(:Stream)\\n(:Stream)-[:CHATTER]->(:User)\\n(:Stream)-[:HAS_TEAM]->(:Team)\\n(:Stream)-[:VIP]->(:Stream)\\n(:Stream)-[:VIP]->(:User)\\n(:User)-[:CHATTER]->(:Stream)\\n(:User)-[:CHATTER]->(:User)\\n(:User)-[:MODERATOR]->(:Stream)\\n(:User)-[:MODERATOR]->(:User)', 'cypher': 'MATCH (s:Stream)-[:PLAYS]->(g:Game) WHERE s.total_view_count > 50000000 RETURN DISTINCT g.name', 'data_source': 'neo4jLabs_synthetic_gemini', 'instance_id': 'instance_id_34035', 'database_reference_alias': 'neo4jlabs_demo_db_twitch'}\n",
      "{'question': 'For each Article find its abstract and the count of Keyword linked via HAS_KEY, and retrieve seven results in desc order of the counts!', 'schema': \"Graph schema: Relevant node labels and their properties (with datatypes) are:\\nArticle {abstract: STRING}\\nKeyword {}\\n\\nRelevant relationships are:\\n{'start': Article, 'type': HAS_KEY, 'end': Keyword }\", 'cypher': 'MATCH (n:Article) -[:HAS_KEY]->(m:Keyword) WITH DISTINCT n, m RETURN n.abstract AS abstract, count(m) AS count ORDER BY count DESC LIMIT 7', 'data_source': 'neo4jLabs_functional_cypher', 'instance_id': 'instance_id_3914', 'database_reference_alias': None}\n",
      "{'question': 'Find the Author for which first_name starts with Jea!', 'schema': 'Graph schema: Relevant node labels and their properties (with datatypes) are:\\nAuthor {first_name: STRING}', 'cypher': \"MATCH (n:Author) WHERE n.first_name STARTS WITH 'Jea' RETURN n\", 'data_source': 'neo4jLabs_functional_cypher', 'instance_id': 'instance_id_14645', 'database_reference_alias': None}\n",
      "{'question': \"List all the categories represented by businesses in 'San Mateo'.\", 'schema': 'Node properties:\\n- **Business**\\n  - `address`: STRING Available options: [\\'301 E Main St\\', \\'200 W Pine St\\', \\'313 N 1st St W\\', \\'1151 W Broadway St\\', \\'201 E Front St\\', \\'723 California Dr\\', \\'121 W Broadway St\\', \\'716 N San Mateo Dr\\', \\'111 E 5th Ave\\']\\n  - `location`: POINT \\n  - `city`: STRING Available options: [\\'Missoula\\', \\'Burlingame\\', \\'San Mateo\\']\\n  - `state`: STRING Available options: [\\'MT\\', \\'CA\\']\\n  - `businessId`: STRING Available options: [\\'b5\\', \\'b3\\', \\'b1\\', \\'b2\\', \\'b4\\', \\'b7\\', \\'b6\\', \\'b8\\', \\'b9\\']\\n  - `name`: STRING Available options: [\\'Missoula Public Library\\', \"Ninja Mike\\'s\", \\'KettleHouse Brewing Co.\\', \\'Imagine Nation Brewing\\', \\'Market on Front\\', \\'Hanabi\\', \\'Zootown Brew\\', \"Ducky\\'s Car Wash\", \\'Neo4j\\']\\n- **User**\\n  - `name`: STRING Available options: [\\'Will\\', \\'Bob\\', \\'Jenny\\', \\'Angie\\']\\n  - `userId`: STRING Available options: [\\'u1\\', \\'u2\\', \\'u3\\', \\'u4\\']\\n- **Review**\\n  - `date`: DATE Min: 2015-08-29, Max: 2018-09-10\\n  - `text`: STRING Available options: [\\'Not a great selection of books, but fortunately th\\', \"Best breakfast sandwich at the Farmer\\'s Market. Al\", \\'Great IPA selection!\\', \"Awesome full-service car wash. Love Ducky\\'s!\", \"The world\\'s leading graph database HQ!\"]\\n  - `stars`: FLOAT Min: 3.0, Max: 5.0\\n  - `reviewId`: STRING Example: \"r7\"\\n- **Category**\\n  - `name`: STRING Example: \"Library\"\\nRelationship properties:\\n\\nThe relationships:\\n(:Business)-[:IN_CATEGORY]->(:Category)\\n(:User)-[:WROTE]->(:Review)\\n(:Review)-[:REVIEWS]->(:Business)', 'cypher': \"MATCH (b:Business)-[:IN_CATEGORY]->(c:Category) WHERE b.city = 'San Mateo' RETURN DISTINCT c.name AS category\", 'data_source': 'neo4jLabs_synthetic_gpt4o', 'instance_id': 'instance_id_39945', 'database_reference_alias': 'neo4jlabs_demo_db_grandstack'}\n",
      "{'question': 'List nodes that are 3 hops away from Article for which title=Maslov class and minimality in Calabi-Yau manifolds!', 'schema': 'Graph schema: Relevant node labels and their properties (with datatypes) are:\\nArticle {title: STRING}', 'cypher': \"MATCH (a:Article{title:'Maslov class and minimality in Calabi-Yau manifolds'})-[*3]->(n) RETURN labels(n) AS FarNodes\", 'data_source': 'neo4jLabs_functional_cypher', 'instance_id': 'instance_id_17972', 'database_reference_alias': None}\n",
      "{'question': 'Which movies released between 1990 and 2000 have more than 5000 votes?', 'schema': 'Node properties:\\n- **Movie**\\n  - `title`: STRING Example: \"The Matrix\"\\n  - `votes`: INTEGER Min: 1, Max: 5259\\n  - `tagline`: STRING Example: \"Welcome to the Real World\"\\n  - `released`: INTEGER Min: 1975, Max: 2012\\n- **Person**\\n  - `born`: INTEGER Min: 1929, Max: 1996\\n  - `name`: STRING Example: \"Keanu Reeves\"\\nRelationship properties:\\n- **ACTED_IN**\\n  - `roles: LIST` Min Size: 1, Max Size: 6\\n- **REVIEWED**\\n  - `summary: STRING` Available options: [\\'Pretty funny at times\\', \\'A solid romp\\', \\'Silly, but fun\\', \\'You had me at Jerry\\', \\'An amazing journey\\', \\'Slapstick redeemed only by the Robin Williams and \\', \\'Dark, but compelling\\', \\'The coolest football movie ever\\', \\'Fun, but a little far fetched\\']\\n  - `rating: INTEGER` Min: 45, Max:  100\\nThe relationships:\\n(:Person)-[:ACTED_IN]->(:Movie)\\n(:Person)-[:DIRECTED]->(:Movie)\\n(:Person)-[:PRODUCED]->(:Movie)\\n(:Person)-[:WROTE]->(:Movie)\\n(:Person)-[:FOLLOWS]->(:Person)\\n(:Person)-[:REVIEWED]->(:Movie)', 'cypher': 'MATCH (m:Movie) WHERE m.released >= 1990 AND m.released <= 2000   AND m.votes > 5000 RETURN m.title, m.released, m.votes', 'data_source': 'neo4jLabs_synthetic_claudeopus', 'instance_id': 'instance_id_35060', 'database_reference_alias': 'neo4jlabs_demo_db_movies'}\n",
      "{'question': 'Search for the title values from 20 Article that are linked to Keyword via HAS_KEY and return title along with the respective Keyword counts!', 'schema': \"Graph schema: Relevant node labels and their properties (with datatypes) are:\\nArticle {title: STRING}\\nKeyword {}\\n\\nRelevant relationships are:\\n{'start': Article, 'type': HAS_KEY, 'end': Keyword }\", 'cypher': 'MATCH (n:Article) -[:HAS_KEY]->(m:Keyword) WITH DISTINCT n, m RETURN n.title AS title, count(m) AS count LIMIT 20', 'data_source': 'neo4jLabs_functional_cypher', 'instance_id': 'instance_id_3825', 'database_reference_alias': None}\n",
      "{'question': 'Which movie has the highest budget?', 'schema': 'Node properties:\\n- **Movie**\\n  - `url`: STRING Example: \"https://themoviedb.org/movie/862\"\\n  - `runtime`: INTEGER Min: 2, Max: 910\\n  - `revenue`: INTEGER Min: 1, Max: 2787965087\\n  - `imdbRating`: FLOAT Min: 1.6, Max: 9.6\\n  - `released`: STRING Example: \"1995-11-22\"\\n  - `countries`: LIST Min Size: 1, Max Size: 16\\n  - `languages`: LIST Min Size: 1, Max Size: 19\\n  - `plot`: STRING Example: \"A cowboy doll is profoundly threatened and jealous\"\\n  - `imdbVotes`: INTEGER Min: 13, Max: 1626900\\n  - `imdbId`: STRING Example: \"0114709\"\\n  - `year`: INTEGER Min: 1902, Max: 2016\\n  - `poster`: STRING Example: \"https://image.tmdb.org/t/p/w440_and_h660_face/uXDf\"\\n  - `movieId`: STRING Example: \"1\"\\n  - `tmdbId`: STRING Example: \"862\"\\n  - `title`: STRING Example: \"Toy Story\"\\n  - `budget`: INTEGER Min: 1, Max: 380000000\\n- **Genre**\\n  - `name`: STRING Example: \"Adventure\"\\n- **User**\\n  - `userId`: STRING Example: \"1\"\\n  - `name`: STRING Example: \"Omar Huffman\"\\n- **Actor**\\n  - `url`: STRING Example: \"https://themoviedb.org/person/1271225\"\\n  - `name`: STRING Example: \"François Lallement\"\\n  - `tmdbId`: STRING Example: \"1271225\"\\n  - `bornIn`: STRING Example: \"France\"\\n  - `bio`: STRING Example: \"\\u200bFrom Wikipedia, the free encyclopedia  Lillian Di\"\\n  - `died`: DATE Example: \"1954-01-01\"\\n  - `born`: DATE Example: \"1877-02-04\"\\n  - `imdbId`: STRING Example: \"2083046\"\\n  - `poster`: STRING Example: \"https://image.tmdb.org/t/p/w440_and_h660_face/6DCW\"\\n- **Director**\\n  - `url`: STRING Example: \"https://themoviedb.org/person/88953\"\\n  - `bornIn`: STRING Example: \"Burchard, Nebraska, USA\"\\n  - `born`: DATE Min: 1861-12-08, Max: 2018-05-01\\n  - `died`: DATE Min: 1930-08-26, Max: 2976-09-29\\n  - `tmdbId`: STRING Example: \"88953\"\\n  - `imdbId`: STRING Example: \"0516001\"\\n  - `name`: STRING Example: \"Harold Lloyd\"\\n  - `poster`: STRING Example: \"https://image.tmdb.org/t/p/w440_and_h660_face/er4Z\"\\n  - `bio`: STRING Example: \"Harold Lloyd has been called the cinema’s “first m\"\\n- **Person**\\n  - `url`: STRING Example: \"https://themoviedb.org/person/1271225\"\\n  - `died`: DATE Example: \"1954-01-01\"\\n  - `bornIn`: STRING Example: \"France\"\\n  - `born`: DATE Example: \"1877-02-04\"\\n  - `imdbId`: STRING Example: \"2083046\"\\n  - `name`: STRING Example: \"François Lallement\"\\n  - `poster`: STRING Example: \"https://image.tmdb.org/t/p/w440_and_h660_face/6DCW\"\\n  - `tmdbId`: STRING Example: \"1271225\"\\n  - `bio`: STRING Example: \"\\u200bFrom Wikipedia, the free encyclopedia  Lillian Di\"\\nRelationship properties:\\n- **RATED**\\n  - `rating: FLOAT` Example: \"2.0\"\\n  - `timestamp: INTEGER` Example: \"1260759108\"\\n- **ACTED_IN**\\n  - `role: STRING` Example: \"Officer of the Marines (uncredited)\"\\n- **DIRECTED**\\n  - `role: STRING` \\nThe relationships:\\n(:Movie)-[:IN_GENRE]->(:Genre)\\n(:User)-[:RATED]->(:Movie)\\n(:Actor)-[:ACTED_IN]->(:Movie)\\n(:Actor)-[:DIRECTED]->(:Movie)\\n(:Director)-[:DIRECTED]->(:Movie)\\n(:Director)-[:ACTED_IN]->(:Movie)\\n(:Person)-[:ACTED_IN]->(:Movie)\\n(:Person)-[:DIRECTED]->(:Movie)', 'cypher': 'MATCH (m:Movie) RETURN m ORDER BY m.budget DESC LIMIT 1', 'data_source': 'neo4jLabs_synthetic_gemini', 'instance_id': 'instance_id_29305', 'database_reference_alias': 'neo4jlabs_demo_db_recommendations'}\n"
     ]
    }
   ],
   "source": [
    "for i in range(10):\n",
    "    print(train_samples[i])"
   ]
  },
  {
   "cell_type": "code",
   "execution_count": null,
   "id": "ac9614f2",
   "metadata": {},
   "outputs": [],
   "source": []
  },
  {
   "cell_type": "code",
   "execution_count": 13,
   "id": "d168b7d5",
   "metadata": {},
   "outputs": [
    {
     "name": "stdout",
     "output_type": "stream",
     "text": [
      "{'question': Value(dtype='string', id=None), 'schema': Value(dtype='string', id=None), 'cypher': Value(dtype='string', id=None), 'data_source': Value(dtype='string', id=None), 'instance_id': Value(dtype='string', id=None), 'database_reference_alias': Value(dtype='string', id=None)}\n"
     ]
    }
   ],
   "source": [
    "print(ds['train'].features)"
   ]
  },
  {
   "cell_type": "code",
   "execution_count": null,
   "id": "57d2e1e3",
   "metadata": {},
   "outputs": [],
   "source": [
    "import dspy\n",
    "\n",
    "\n",
    "openai_api_key = \"YOUR_OPENAI_API_KEY\"\n",
    "llm = dspy.OpenAI(model='gpt-3.5-turbo', api_key=openai_api_key, max_tokens=100)\n",
    "dspy.settings.configure(lm=llm)\n",
    "\n",
    "\n",
    "class Translate(dspy.Signature):\n",
    "    \"\"\"Translates text into a target language.\"\"\"\n",
    "    \n",
    "    source_text = dspy.InputField(desc=\"The text to be translated.\")\n",
    "    target_language = dspy.InputField(desc=\"The desired output language.\")\n",
    "    translated_text = dspy.OutputField(desc=\"The text after translation.\")\n",
    "\n",
    "\n",
    "def translate_batch_dspy(questions, target_languages):\n",
    "    \"\"\"\n",
    "    Translates a batch of questions into multiple target languages using DSPy.\n",
    "    \"\"\"\n",
    "    translator = dspy.Predict(Translate)\n",
    "    \n",
    "    translations = {lang: [] for lang in target_languages}\n",
    "    \n",
    "    for question in questions:\n",
    "        for lang in target_languages:\n",
    "            response = translator(source_text=question, target_language=lang)\n",
    "            translations[lang].append(response.translated_text)\n",
    "            \n",
    "    return translations\n",
    "\n",
    "\n",
    "questions_batch = [sample['question'] for sample in train_samples]\n",
    "target_languages = ['Tamil', 'Hindi']\n",
    "\n",
    "\n",
    "translations_dspy = translate_batch_dspy(questions_batch, target_languages)\n",
    "print(translations_dspy)"
   ]
  },
  {
   "cell_type": "code",
   "execution_count": null,
   "id": "d47f2ae0",
   "metadata": {},
   "outputs": [],
   "source": [
    "class GenerateCypher(dspy.Signature):\n",
    "    \"\"\"Generates Cypher query from a question and schema in a specific language.\"\"\"\n",
    "    \n",
    "    question = dspy.InputField(desc=\"The question in the target language.\")\n",
    "    schema = dspy.InputField(desc=\"The database schema.\")\n",
    "    cypher = dspy.OutputField(desc=\"The generated Cypher query.\")\n",
    "\n",
    "\n",
    "def generate_cypher_batch_dspy(samples, language):\n",
    "    \"\"\"\n",
    "    Generates Cypher queries for each sample in the specified language using DSPy.\n",
    "    \"\"\"\n",
    "    cypher_generator = dspy.Predict(GenerateCypher)\n",
    "    cypher_queries = []\n",
    "\n",
    "    for sample in samples:\n",
    "        question = sample['question']\n",
    "        schema = sample['schema']\n",
    "        # If translations_dspy is available, use translated question\n",
    "        if 'translations_dspy' in globals() and language in translations_dspy:\n",
    "            idx = samples.index(sample)\n",
    "            question = translations_dspy[language][idx]\n",
    "        response = cypher_generator(question=question, schema=schema)\n",
    "        cypher_queries.append(response.cypher)\n",
    "    \n",
    "    return cypher_queries\n",
    "\n",
    "# Example usage for Tamil\n",
    "cypher_queries_tamil = generate_cypher_batch_dspy(train_samples, 'Tamil')\n",
    "print(cypher_queries_tamil[:5])"
   ]
  },
  {
   "cell_type": "code",
   "execution_count": null,
   "id": "3cfbed63",
   "metadata": {},
   "outputs": [],
   "source": [
    "class ExecuteCypher(dspy.Signature):\n",
    "    \"\"\"Executes a Cypher query against Neo4j and returns the result.\"\"\"\n",
    "    \n",
    "    cypher = dspy.InputField(desc=\"The Cypher query to execute.\")\n",
    "    result = dspy.OutputField(desc=\"The result of the query execution.\")\n",
    "\n",
    "def execute_and_match(samples, cypher_queries, neo4j_driver):\n",
    "    \"\"\"\n",
    "    Executes generated Cypher queries against Neo4j and matches the result using DSPy.\n",
    "    \"\"\"\n",
    "    executor = dspy.Predict(ExecuteCypher)\n",
    "    results = []\n",
    "    for idx, sample in enumerate(samples):\n",
    "        cypher_query = cypher_queries[idx]\n",
    "        # Execute query using Neo4j driver\n",
    "        with neo4j_driver.session() as session:\n",
    "            neo4j_result = session.run(cypher_query).data()\n",
    "        # Use DSPy to match result (simulate with signature)\n",
    "        response = executor(cypher=cypher_query)\n",
    "        # Compare Neo4j result with DSPy result (for demonstration)\n",
    "        match = neo4j_result == response.result\n",
    "        results.append({\n",
    "            \"instance_id\": sample['instance_id'],\n",
    "            \"cypher\": cypher_query,\n",
    "            \"neo4j_result\": neo4j_result,\n",
    "            \"dspy_result\": response.result,\n",
    "            \"match\": match\n",
    "        })\n",
    "    return results\n",
    "\n",
    "# Example usage (requires a Neo4j driver instance):\n",
    "# from neo4j import GraphDatabase\n",
    "# neo4j_driver = GraphDatabase.driver(\"bolt://localhost:7687\", auth=(\"neo4j\", \"password\"))\n",
    "# results = execute_and_match(train_samples, cypher_queries_tamil, neo4j_driver)\n",
    "# print(results[:5])"
   ]
  },
  {
   "cell_type": "markdown",
   "id": "87b6ac04",
   "metadata": {},
   "source": []
  },
  {
   "cell_type": "code",
   "execution_count": null,
   "id": "55069fce",
   "metadata": {},
   "outputs": [],
   "source": []
  },
  {
   "cell_type": "code",
   "execution_count": null,
   "id": "bbabed46",
   "metadata": {},
   "outputs": [],
   "source": []
  },
  {
   "cell_type": "code",
   "execution_count": null,
   "id": "f7254a16",
   "metadata": {
    "vscode": {
     "languageId": "markdown"
    }
   },
   "outputs": [],
   "source": []
  }
 ],
 "metadata": {
  "kernelspec": {
   "display_name": "base",
   "language": "python",
   "name": "python3"
  },
  "language_info": {
   "codemirror_mode": {
    "name": "ipython",
    "version": 3
   },
   "file_extension": ".py",
   "mimetype": "text/x-python",
   "name": "python",
   "nbconvert_exporter": "python",
   "pygments_lexer": "ipython3",
   "version": "3.11.7"
  }
 },
 "nbformat": 4,
 "nbformat_minor": 5
}
