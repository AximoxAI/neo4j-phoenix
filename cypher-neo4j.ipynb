{
 "cells": [
  {
   "cell_type": "code",
   "execution_count": null,
   "id": "e19346a2",
   "metadata": {},
   "outputs": [],
   "source": [
    "\n",
    "## Setup Phoenix \n",
    "def init_phoenix():\n",
    "    \"\"\"Initialize Phoenix UI for observability.\"\"\"\n",
    "    PROJECT_NAME = \"default\"\n",
    "    tracer_provider = register(\n",
    "        project_name=PROJECT_NAME,\n",
    "        auto_instrument=True,\n",
    "        endpoint=\"http://0.0.0.0:6006/v1/traces\"\n",
    "    )\n",
    "\n",
    "    tracer = tracer_provider.get_tracer(__name__)\n",
    "    DSPyInstrumentor().instrument()\n",
    "    logger.info(\"DSPy instrumentation enabled\")\n",
    "\n",
    "    client = Client()\n",
    "\n",
    "    return tracer, client"
   ]
  },
  {
   "cell_type": "code",
   "execution_count": null,
   "id": "773fc9b8",
   "metadata": {},
   "outputs": [],
   "source": []
  }
 ],
 "metadata": {
  "kernelspec": {
   "display_name": "base",
   "language": "python",
   "name": "python3"
  },
  "language_info": {
   "codemirror_mode": {
    "name": "ipython",
    "version": 3
   },
   "file_extension": ".py",
   "mimetype": "text/x-python",
   "name": "python",
   "nbconvert_exporter": "python",
   "pygments_lexer": "ipython3",
   "version": "3.11.7"
  }
 },
 "nbformat": 4,
 "nbformat_minor": 5
}
